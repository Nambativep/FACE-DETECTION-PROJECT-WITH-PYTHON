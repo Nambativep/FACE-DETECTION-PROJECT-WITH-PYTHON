{
 "cells": [
  {
   "cell_type": "code",
   "execution_count": null,
   "id": "ec2600e6",
   "metadata": {},
   "outputs": [],
   "source": [
    "import cv2\n",
    "import numpy as np\n",
    "import face_recognition as fr\n",
    "\n",
    "video_capture = cv2.VideoCapture(0)\n",
    "image = fr.load_image_file('boy.jpg')\n",
    "image_face_encoding = fr.face_encodings(image)[0]\n",
    "known_face_encodings = [image_face_encoding]\n",
    "known_face_names = [\"Peter\"]\n",
    "while True:\n",
    "    ret, frame = video_capture.read()\n",
    "    \n",
    "    rgb_frame = frame[:, :, ::-1]\n",
    "    \n",
    "    fc_locations = fr.face_location(rgb_frame)\n",
    "    fc_encodings = fr_face_encodings(rgb_frame, fc_locations)\n",
    "    \n",
    "    for(top, right, bottom, left), face_encoding in zip(fc_locations, face_encodings):\n",
    "        mathces = fr_compare_faces(known_face_encodings, face_encoding)\n",
    "        \n",
    "        name = \"unknown\"\n",
    "        \n",
    "        fc_distances = fr.face_distances(known_face_encodings, face_encoding)\n",
    "        \n",
    "        match_index = np.argmin(fc_distances)\n",
    "        \n",
    "        if matches[match_index]:\n",
    "            name = known_face_names[match_index]\n",
    "        cv2.rectangle(frame, (left, top), right bottom), (0,0,255), 2)\n",
    "        \n",
    "        cv2.rectangle(frame, (left, bottom - 35), (right, bottom), (0,0,255), cv2.FILLED)\n",
    "        font = cv2.FONT_HERSHEY_SIMPLEX\n",
    "        \n",
    "        cv2.putText(frame,name, (left + 6, bottom - ), font, 1.0, (255,255,255), 1 )\n",
    "    cv2.inshow('NambativePeter face detection system', frame) \n",
    "    \n",
    "    if cv2.waitKey(1) & 0xFF == ord('q'):\n",
    "        break\n",
    "        \n",
    "video_capture.release()\n",
    "cv2.destroyAllWindows()\n",
    "\n",
    "        \n",
    "        \n",
    "        \n",
    "    \n",
    "    \n",
    "\n"
   ]
  },
  {
   "cell_type": "code",
   "execution_count": null,
   "id": "6a6e3337",
   "metadata": {},
   "outputs": [],
   "source": []
  }
 ],
 "metadata": {
  "kernelspec": {
   "display_name": "Python 3 (ipykernel)",
   "language": "python",
   "name": "python3"
  },
  "language_info": {
   "codemirror_mode": {
    "name": "ipython",
    "version": 3
   },
   "file_extension": ".py",
   "mimetype": "text/x-python",
   "name": "python",
   "nbconvert_exporter": "python",
   "pygments_lexer": "ipython3",
   "version": "3.11.3"
  }
 },
 "nbformat": 4,
 "nbformat_minor": 5
}
